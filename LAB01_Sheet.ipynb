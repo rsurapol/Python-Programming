{
  "nbformat": 4,
  "nbformat_minor": 0,
  "metadata": {
    "colab": {
      "name": "LAB01-Sheet",
      "provenance": [],
      "authorship_tag": "ABX9TyM/a32Yha8rxPnnjojn1oci",
      "include_colab_link": true
    },
    "kernelspec": {
      "name": "python3",
      "display_name": "Python 3"
    },
    "language_info": {
      "name": "python"
    }
  },
  "cells": [
    {
      "cell_type": "markdown",
      "metadata": {
        "id": "view-in-github",
        "colab_type": "text"
      },
      "source": [
        "<a href=\"https://colab.research.google.com/github/rsurapol/Python-Programming/blob/master/LAB01_Sheet.ipynb\" target=\"_parent\"><img src=\"https://colab.research.google.com/assets/colab-badge.svg\" alt=\"Open In Colab\"/></a>"
      ]
    },
    {
      "cell_type": "markdown",
      "metadata": {
        "id": "n2mFc2uu1Sss"
      },
      "source": [
        "# LAB01: Introduction\n",
        "## Our first program\n",
        "\n",
        "---\n",
        "\n",
        "### เกริ่นนำ\n",
        "\n",
        "> โดยทั่วไปการเขียนโปรแกรมคอมพิวเตอร์ โปรแกรมแรกที่นิยมเขียนในทุกภาษา คือ แสดงข้อความ \"Hello Word!\" เป็นการแสดงการแนะนำตัวเองกับโลกใบนี้\n",
        "\n",
        "---\n",
        "\n",
        "### การใช้งาน google colab\n",
        "> ลักษณะการทำงานของ google colab นั้นจะเป็นการนำหลักการทำงานของ การเขียนโปรแกรมด้วยไพธอน และส่วนแสดงข้อมูลแบบเว็บไซต์ มาแสดงรวมกันอยู่ใน google colab \n",
        "\n",
        "โดยแบ่งออก เป็น 2 ส่วน คือ\n",
        "<li>**ส่วนโค้ด** จะเป้นส่วนการเขียนตัวโปรแกรม\n",
        "<li>**ส่วนข้อความ** จะเป็นส่วนการเขียนคำอธิบาย หรือแทรกเอกสารประกอบในรูปแบบเว็บไซต์ สามารถใส่ โค้ดภาษา html ช่วยได้\n",
        "\n",
        "---\n",
        "# **การทดลองที่ 1 เขียนโปรแกรมดังนี้**\n",
        "\n",
        "```\n",
        "print(\"Hello, world! My name is ___________\")\n",
        "```\n",
        "โดยกำหนดให้ ใส่ชื่อ นศ. ลงไปตรงช่องว่าง\n",
        "\n",
        "เมื่อเขียนโค้ดโปรแกรมเสร็จแล้ว ทำการทดสอบผลลัพธ์ของโปรแกรม โดย เลื่อนเมาส์ไปกดตรงปุ่ม ▶️\n",
        "\n"
      ]
    },
    {
      "cell_type": "code",
      "metadata": {
        "id": "enHyYxDqtmMb",
        "colab": {
          "base_uri": "https://localhost:8080/"
        },
        "outputId": "3f6dbb26-56fa-41bc-a76a-266be59b9ceb"
      },
      "source": [
        "print(\"Hello, world! My name is ประยุทธ์ จันโอดอา\")"
      ],
      "execution_count": 1,
      "outputs": [
        {
          "output_type": "stream",
          "text": [
            "Hello, world! My name is ประยุทธ์ จันโอดอา\n"
          ],
          "name": "stdout"
        }
      ]
    }
  ]
}