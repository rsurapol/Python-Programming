{
  "nbformat": 4,
  "nbformat_minor": 0,
  "metadata": {
    "colab": {
      "name": "Chapter2.ipynb",
      "provenance": [],
      "authorship_tag": "ABX9TyNPn3SmZpAevMMKfQ/O9LXd",
      "include_colab_link": true
    },
    "kernelspec": {
      "name": "python3",
      "display_name": "Python 3"
    },
    "language_info": {
      "name": "python"
    }
  },
  "cells": [
    {
      "cell_type": "markdown",
      "metadata": {
        "id": "view-in-github",
        "colab_type": "text"
      },
      "source": [
        "<a href=\"https://colab.research.google.com/github/rsurapol/Python-Programming/blob/master/Chapter2.ipynb\" target=\"_parent\"><img src=\"https://colab.research.google.com/assets/colab-badge.svg\" alt=\"Open In Colab\"/></a>"
      ]
    },
    {
      "cell_type": "code",
      "execution_count": null,
      "metadata": {
        "id": "13P8WFpKvRz2"
      },
      "outputs": [],
      "source": [
        "\"\"\"\n",
        "ตัวอย่างที่ 2.1 การใช้งานฟังก์ชั่น print()\n",
        "\"\"\"\n",
        "x = 5; y = 10;\n",
        "s = \"Python is an easy programming langauge.\"\n",
        "print (\"x =\", x, \",\", \"y =\", y)\n",
        "print (\"ผลลัพธ์ของ x * y =\", x * y)\n",
        "print (s)"
      ]
    },
    {
      "cell_type": "code",
      "source": [
        "\"\"\"\n",
        "ตัวอย่างที่ 2.2 การเรียกใช้งานฟังก์ชั่น print() แสดงผลในรูปแบบต่างๆ\n",
        "\"\"\"\n",
        "print (\"Hello Python\", 'Hello Python programming')\n",
        "print (50)\n",
        "print (\"Hello\" + \"Python\")\n",
        "print (\"Hello\" + ' ' + \"Python\")\n",
        "print ()\n",
        "print (5*10/2)"
      ],
      "metadata": {
        "id": "K79a8lMTv7P-"
      },
      "execution_count": null,
      "outputs": []
    },
    {
      "cell_type": "code",
      "source": [
        "\"\"\"\n",
        "ตัวอย่างที่ 2.3 \n",
        "\"\"\"\n",
        "first_name = input(\"กรุณาป้อนชื่อของคุณ : \")\n",
        "last_name = input(\"กรุณาป้อนนามสกุลของคุณ : \")\n",
        "age = input(\"กรุณาป้อนอายุของคุณ : \")\n",
        "print(\"----------------------------------\")\n",
        "print (\"ชื่อของคุณ คือ\", first_name)\n",
        "print (\"นามสกุลของคุณ คือ\", last_name)\n",
        "print (\"อายุของคุณ คือ\", age)"
      ],
      "metadata": {
        "id": "njjndIbowKAK"
      },
      "execution_count": null,
      "outputs": []
    },
    {
      "cell_type": "code",
      "source": [
        "\"\"\"\n",
        "ตัวอย่างที่ 2.4 \n",
        "\"\"\"\n",
        "print (\"Hello Python\", \"Hello Python programming\")\n",
        "print (50) # แสดงผลตัวเลข 50 ออกทางหน้าจอ\n",
        "print (247.451 + 124.12) # แสดงผลลัพธ์จากการบวก"
      ],
      "metadata": {
        "id": "gzMKRMTfwdCj"
      },
      "execution_count": null,
      "outputs": []
    },
    {
      "cell_type": "code",
      "source": [
        "\"\"\"\n",
        "ตัวอย่างที่ 2.5  การใช้ comment หรือคำอธิบายโปรแกรม\n",
        "1. แสดงการใช้ฟังก์ชัน input() รับข้อมูลผ่านทางคีย์บอร์ด\n",
        "2. แสดงการใช้ฟังก์ชัน print() แสดงผลข้อมูล\n",
        "\"\"\"\n",
        "msg = input(\"กรุณาป้อนข้อความ : \")\n",
        "print (\"ข้อความที่คุณป้อน =\", msg)"
      ],
      "metadata": {
        "id": "UixXhDfpwj9P"
      },
      "execution_count": null,
      "outputs": []
    }
  ]
}