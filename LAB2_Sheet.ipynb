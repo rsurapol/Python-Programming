{
  "nbformat": 4,
  "nbformat_minor": 0,
  "metadata": {
    "colab": {
      "name": "LAB2-Sheet.ipynb",
      "provenance": [],
      "collapsed_sections": [],
      "authorship_tag": "ABX9TyORY4O1qLmUMf53f82sKKGP",
      "include_colab_link": true
    },
    "kernelspec": {
      "name": "python3",
      "display_name": "Python 3"
    },
    "language_info": {
      "name": "python"
    }
  },
  "cells": [
    {
      "cell_type": "markdown",
      "metadata": {
        "id": "view-in-github",
        "colab_type": "text"
      },
      "source": [
        "<a href=\"https://colab.research.google.com/github/rsurapol/Python-Programming/blob/master/LAB2_Sheet.ipynb\" target=\"_parent\"><img src=\"https://colab.research.google.com/assets/colab-badge.svg\" alt=\"Open In Colab\"/></a>"
      ]
    },
    {
      "cell_type": "markdown",
      "metadata": {
        "id": "4DfxhXjR_g-F"
      },
      "source": [
        "#LAB02: Variable\n",
        "\n",
        "---\n",
        "\n",
        "\n",
        "## Variable definition\n",
        "\n",
        "\n",
        "> Variables are used to store values so we can refer to them later. A variable is like a label, and you use the ' = ' symbol, known as the assignment operator, to assign a value to a variable. An assignment can be chained, e.g. a = b = 2\n",
        "\n",
        "\n",
        "---\n",
        "## Practice:\n",
        "\n",
        "Change the value stored in the variable `greetings`.\n",
        "\n",
        "---\n",
        "\n",
        "\n",
        "\n",
        "## Coding:\n",
        "\n",
        "\n",
        "```\n",
        "a = b = 2  # This is called a \"chained assignment\". It assigns the value 2 to variables \"a\" and \"b\".\n",
        "print(\"a = \" + str(a))   # We'll explain the expression str(a) later in the course. For now it is used to convert the  variable \"a\" to a string.\n",
        "print(\"b = \" + str(b))\n",
        "\n",
        "greetings = \"greetings\"\n",
        "print(\"greetings = \" + str(greetings))\n",
        "greetings = \"hahaha\"\n",
        "print(\"greetings = \" + str(greetings))\n",
        "```\n",
        "\n",
        "\n"
      ]
    },
    {
      "cell_type": "code",
      "metadata": {
        "id": "mjO3etRe_O5D"
      },
      "source": [
        "a = b = 2  # This is called a \"chained assignment\". It assigns the value 2 to variables \"a\" and \"b\".\n",
        "print(\"a = \" + str(a))   # We'll explain the expression str(a) later in the course. For now it is used to convert the  variable \"a\" to a string.\n",
        "print(\"b = \" + str(b))\n",
        "\n",
        "greetings = \"greetings\"\n",
        "print(\"greetings = \" + str(greetings))\n",
        "greetings = \"hahaha\"\n",
        "print(\"greetings = \" + str(greetings))"
      ],
      "execution_count": null,
      "outputs": []
    },
    {
      "cell_type": "markdown",
      "metadata": {
        "id": "YwNmVrnGCXvt"
      },
      "source": [
        "## Undefined variable\n",
        "\n",
        "---\n",
        "\n",
        "> Variable names may only contain letters, digits, and/or the underscore character, and cannot start with a digit.\n",
        "\n",
        "---\n",
        "## Practice:\n",
        "\n",
        "> Check what happens if you use a variable which is not defined yet. Try to print out an undefined name.\n",
        "\n",
        "---\n",
        "\n",
        "Coding:\n",
        "\n",
        "```\n",
        "variable = 1\n",
        "print(other variable)\n",
        "```\n",
        "\n",
        "\n"
      ]
    },
    {
      "cell_type": "code",
      "metadata": {
        "id": "yoYMZF8_CXLi"
      },
      "source": [
        "variable = 1\n",
        "print(other variable)"
      ],
      "execution_count": null,
      "outputs": []
    },
    {
      "cell_type": "markdown",
      "metadata": {
        "id": "vEstQjk_Dfkd"
      },
      "source": [
        "## Variable types\n",
        "\n",
        "---\n",
        "\n",
        "\n",
        "> In Python, there are two main types of numbers: integers and floats. The most important difference between them is that a float is a number that has a decimal point, and an int is a number without a decimal point.\n",
        "\n",
        "\n",
        "---\n",
        "## Practice:\n",
        "\n",
        "\n",
        "> Determine the type of the variable `float_number.`\n",
        "\n",
        "\n",
        "\n",
        "\n",
        "\n"
      ]
    }
  ]
}