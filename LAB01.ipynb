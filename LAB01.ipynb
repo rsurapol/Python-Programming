{
  "nbformat": 4,
  "nbformat_minor": 0,
  "metadata": {
    "colab": {
      "name": "LAB01.ipynb",
      "provenance": [],
      "authorship_tag": "ABX9TyO9mTCJCgbLgUu5NJM1WcOT",
      "include_colab_link": true
    },
    "kernelspec": {
      "name": "python3",
      "display_name": "Python 3"
    },
    "language_info": {
      "name": "python"
    }
  },
  "cells": [
    {
      "cell_type": "markdown",
      "metadata": {
        "id": "view-in-github",
        "colab_type": "text"
      },
      "source": [
        "<a href=\"https://colab.research.google.com/github/rsurapol/Python-Programming/blob/master/LAB01.ipynb\" target=\"_parent\"><img src=\"https://colab.research.google.com/assets/colab-badge.svg\" alt=\"Open In Colab\"/></a>"
      ]
    },
    {
      "cell_type": "code",
      "metadata": {
        "colab": {
          "base_uri": "https://localhost:8080/"
        },
        "id": "J-ACUhRMAeWJ",
        "outputId": "eeecb19e-746a-4d0c-cc67-35faa8bd0bdb"
      },
      "source": [
        "#Program No.1\n",
        "F=float(input(\"Input temperature in Fahrenheit: \"))\n",
        "C=((F-32)/9)*5\n",
        "print(\"%.2f Fahrenheit = %.2f Celsius\"%(F,C))"
      ],
      "execution_count": null,
      "outputs": [
        {
          "output_type": "stream",
          "text": [
            "Input temperature in Fahrenheit: 98\n",
            "98.00 Fahrenheit = 36.67 Celsius\n"
          ],
          "name": "stdout"
        }
      ]
    },
    {
      "cell_type": "code",
      "metadata": {
        "colab": {
          "base_uri": "https://localhost:8080/"
        },
        "id": "GB3SiMANB99s",
        "outputId": "d6ab436c-ccd4-4095-f3b1-7f55ac93e21f"
      },
      "source": [
        "#Program No.2\n",
        "C=float(input(\"Input temperature in Celsius: \"))\n",
        "F=((C/5)*9)+32\n",
        "print(\"%.2f Celsius = %.2f Fahrenheit\"%(C,F))"
      ],
      "execution_count": null,
      "outputs": [
        {
          "output_type": "stream",
          "text": [
            "Input temperature in Celsius: 37\n",
            "37.00 Celsius = 98.60 Fahrenheit\n"
          ],
          "name": "stdout"
        }
      ]
    },
    {
      "cell_type": "code",
      "metadata": {
        "colab": {
          "base_uri": "https://localhost:8080/"
        },
        "id": "ylPIKK2OCAYg",
        "outputId": "692684d2-f05c-4b31-9a5c-8f1d5fa995e0"
      },
      "source": [
        "#Program No.3\n",
        "W=float(input(\"Input weight in kg: \"))\n",
        "Hcm=float(input(\"Input height in cm: \"))\n",
        "Hm = Hcm/100\n",
        "BMI = W/(Hm**2)\n",
        "print(\"Weight = %.2f kg., Height = %.2f cm., BMI = %.2f\"%(W,Hcm,BMI))"
      ],
      "execution_count": null,
      "outputs": [
        {
          "output_type": "stream",
          "text": [
            "Input weight in kg: 48.7\n",
            "Input height in cm: 150\n",
            "Weight = 48.70 kg., Height = 150.00 cm., BMI = 21.64\n"
          ],
          "name": "stdout"
        }
      ]
    },
    {
      "cell_type": "code",
      "metadata": {
        "id": "zUThwBR9CBoM"
      },
      "source": [
        "#Program No.4\n",
        "print(\"First Equation\")\n",
        "m1=int(input(\"Input m1:\"))\n",
        "b1=int(input(\"Input b1:\"))\n",
        "print(\"Second Equation\")\n",
        "m2=int(input(\"Input m2:\"))\n",
        "b2=int(input(\"Input b2:\"))\n",
        "print(\"The point of intersection is at x = %.2f and y = %.2f\"%(x,y))"
      ],
      "execution_count": null,
      "outputs": []
    },
    {
      "cell_type": "code",
      "metadata": {
        "id": "-ERaOygUCCyC"
      },
      "source": [
        "#Program No.5"
      ],
      "execution_count": null,
      "outputs": []
    },
    {
      "cell_type": "code",
      "metadata": {
        "colab": {
          "base_uri": "https://localhost:8080/"
        },
        "id": "a9GyockM_Nt8",
        "outputId": "ede9566e-67ac-4629-d0a8-d0144b276589"
      },
      "source": [
        "f = float(input(\"Input temperature in Fahrenheit: \"))\n",
        "c = (f - 32) / 9 * 5\n",
        "print(\"%.2f Fahrenheit = %.2f Celsius\"%(f,c))\n"
      ],
      "execution_count": null,
      "outputs": [
        {
          "output_type": "stream",
          "text": [
            "Input temperature in Fahrenheit: 98\n",
            "98.00 Fahrenheit = 36.67 Celsius\n"
          ],
          "name": "stdout"
        }
      ]
    },
    {
      "cell_type": "code",
      "metadata": {
        "colab": {
          "base_uri": "https://localhost:8080/"
        },
        "id": "xNTotH_ACAQR",
        "outputId": "ca672cfa-c863-4868-be12-663898a7055b"
      },
      "source": [
        "c = float(input(\"Input temperature in Celsius: \"))\n",
        "f = c / 5 * 9 + 32\n",
        "print(\"%.2f Celsius = %.2f Fahrenheit\"%(c,f))"
      ],
      "execution_count": null,
      "outputs": [
        {
          "output_type": "stream",
          "text": [
            "Input temperature in Celsius: 37\n",
            "37.00 Celsius = 98.60 Fahrenheit\n"
          ],
          "name": "stdout"
        }
      ]
    },
    {
      "cell_type": "code",
      "metadata": {
        "colab": {
          "base_uri": "https://localhost:8080/"
        },
        "id": "05fwf57uFLZk",
        "outputId": "e0f58284-4407-49e3-ff40-c93af4013633"
      },
      "source": [
        "weight = float(input(\"Input weight in kg: \"))\n",
        "heightcm = float(input(\"Input height in cm: \"))\n",
        "hm = heightcm / 100\n",
        "bMI = weight / (hm * hm)\n",
        "print(\"Weight = %.3f kg., Height = %.3f cm., BMI = %.3f\"%(weight,heightcm,bMI))"
      ],
      "execution_count": null,
      "outputs": [
        {
          "output_type": "stream",
          "text": [
            "Input weight in kg: 48.7\n",
            "Input height in cm: 150\n",
            "Weight = 48.700 kg., Height = 150.000 cm., BMI = 21.644\n"
          ],
          "name": "stdout"
        }
      ]
    },
    {
      "cell_type": "code",
      "metadata": {
        "colab": {
          "base_uri": "https://localhost:8080/"
        },
        "id": "Nrp-2QeJRwX1",
        "outputId": "02f90a6a-7e62-4eba-dc0e-e4b33009ab07"
      },
      "source": [
        "x = int(input(\"ป้อนเลขสลากเพื่อตรวจรางวัล : \"))\n",
        "if 45 <= x and x <= 55:\n",
        "    print(\"First Prize\")\n",
        "else:\n",
        "    if 15 <= x and x <= 30 or 75 <= x and x <= 90:\n",
        "        print(\"Second Prize\")\n",
        "    else:\n",
        "        print(\"No Prize\")"
      ],
      "execution_count": null,
      "outputs": [
        {
          "output_type": "stream",
          "text": [
            "ป้อนเลขสลากเพื่อตรวจรางวัล : 55\n",
            "First Prize\n"
          ],
          "name": "stdout"
        }
      ]
    },
    {
      "cell_type": "code",
      "metadata": {
        "colab": {
          "base_uri": "https://localhost:8080/"
        },
        "id": "O9VflEyfUaO6",
        "outputId": "54e70935-0864-4c5d-a053-a5b8fec2d7ab"
      },
      "source": [
        "speed = int(input(\"ป้อนความเร็วรถ \"))\n",
        "carDensity = int(input(\"ป้อนความหนาแน่นของรถบนถนน \"))\n",
        "if carDensity <= 5:\n",
        "    if speed <= 90:\n",
        "        print(\"Safe\")\n",
        "    else:\n",
        "        print(\"Careful\")\n",
        "else:\n",
        "    if speed <= 60:\n",
        "        print(\"Safe\")\n",
        "    else:\n",
        "        print(\"Careful\")\n"
      ],
      "execution_count": null,
      "outputs": [
        {
          "output_type": "stream",
          "text": [
            "ป้อนความเร็วรถ 100\n",
            "ป้อนความหนาแน่นของรถบนถนน 5\n",
            "Careful\n"
          ],
          "name": "stdout"
        }
      ]
    },
    {
      "cell_type": "code",
      "metadata": {
        "colab": {
          "base_uri": "https://localhost:8080/"
        },
        "id": "UD-MJpVtYGP-",
        "outputId": "e86820cc-db50-401a-c89f-61f7a2cb2c2a"
      },
      "source": [
        "day = int(input(\"ป้อนวันที่ \"))\n",
        "month = int(input(\"ป้อนเดือนที่ \"))\n",
        "if 1 <= month and month <= 12:\n",
        "    if month == 2:\n",
        "        lastDay = 28\n",
        "    else:\n",
        "        if month == 4 or month == 6 or month == 9 or month == 11:\n",
        "            lastDay = 30\n",
        "        else:\n",
        "            lastDay = 31\n",
        "else:\n",
        "    print(\"Bad month!\")\n",
        "if 1 <= day and day <= lastDay:\n",
        "    dayleft = lastDay - day\n",
        "    print(\"อีก\",dayleft,\"วันจะถึงสิ้นเดือน\")\n",
        "else:\n",
        "    print(\"Bad Day!\")\n"
      ],
      "execution_count": null,
      "outputs": [
        {
          "output_type": "stream",
          "text": [
            "ป้อนวันที่ 10\n",
            "ป้อนเดือนที่ 8\n",
            "อีก  21 วันจะถึงสิ้นเดือน\n"
          ],
          "name": "stdout"
        }
      ]
    }
  ]
}