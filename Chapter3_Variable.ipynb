{
  "nbformat": 4,
  "nbformat_minor": 0,
  "metadata": {
    "colab": {
      "name": "Chapter3-Variable.ipynb",
      "provenance": [],
      "authorship_tag": "ABX9TyMhSMjRo6Q2JGVvqO880TMs",
      "include_colab_link": true
    },
    "kernelspec": {
      "name": "python3",
      "display_name": "Python 3"
    },
    "language_info": {
      "name": "python"
    }
  },
  "cells": [
    {
      "cell_type": "markdown",
      "metadata": {
        "id": "view-in-github",
        "colab_type": "text"
      },
      "source": [
        "<a href=\"https://colab.research.google.com/github/rsurapol/Python-Programming/blob/master/Chapter3_Variable.ipynb\" target=\"_parent\"><img src=\"https://colab.research.google.com/assets/colab-badge.svg\" alt=\"Open In Colab\"/></a>"
      ]
    },
    {
      "cell_type": "markdown",
      "source": [
        "# บทที่ 3 ตัวแปร ชนิดข้อมูล นิพจน์ และตัวดำเนินการ"
      ],
      "metadata": {
        "id": "TOmHCV4S1GWI"
      }
    },
    {
      "cell_type": "markdown",
      "source": [
        "## การประกาศตัวแปร (Declaration)"
      ],
      "metadata": {
        "id": "uU7a7eKH1Y2C"
      }
    },
    {
      "cell_type": "code",
      "execution_count": null,
      "metadata": {
        "id": "BEHJPXfb0WEJ"
      },
      "outputs": [],
      "source": [
        "#ex-3.1\n",
        "ปากกา = \"สีแดง\"\n",
        "โทรศัพท์ = \"Samsung\"\n",
        "print (\"ปากกา สี =\", ปากกา)\n",
        "print (\"โทรศัพท์ ยี่ห้อ =\", โทรศัพท์)"
      ]
    },
    {
      "cell_type": "markdown",
      "source": [
        "## ตัวแปรชนิดค่าคงที่ (Constant)"
      ],
      "metadata": {
        "id": "K7nhmJ5M1Vmk"
      }
    },
    {
      "cell_type": "code",
      "source": [
        "#ex-3.2\n",
        "pi = 3.14\n",
        "area = pi * 5 * 5\n",
        "circumference = 2 * pi * 10\n",
        "print (\"พื้นที่วงกลม =\", area)\n",
        "print (\"เส้นรอบวงกลม =\", circumference)"
      ],
      "metadata": {
        "id": "bCB-rOlM04fl"
      },
      "execution_count": null,
      "outputs": []
    },
    {
      "cell_type": "markdown",
      "source": [
        "## ชนิดข้อมูลจำนวนเต็ม (Integer)"
      ],
      "metadata": {
        "id": "z-HOTEB-1c5A"
      }
    },
    {
      "cell_type": "code",
      "source": [
        "#ex-3.3\n",
        "num1 = 546135478945123456214; num2 = 14567489412457845679\n",
        "print(\"ผลบวกของ num1 กับ num2 =\", num1 + num2)\n",
        "print(\"ผลลบของ num1 กับ num2 =\", num1 - num2)"
      ],
      "metadata": {
        "id": "-HHddsg40_NO"
      },
      "execution_count": null,
      "outputs": []
    },
    {
      "cell_type": "code",
      "source": [
        "#ex-3.4 การแปลงเลขฐานสิบเป็น ฐานสอง ฐานแปด ฐานสิบหก\n",
        "x = 6749\n",
        "print (\"แปลงเลขฐานสิบเป็นฐานสอง =\", bin(x))\n",
        "print (\"แปลงเลขฐานสิบเป็นฐานแปด =\", oct(x))\n",
        "print (\"แปลงเลขฐานสิบเป็นฐานสิบหก =\", hex(x))"
      ],
      "metadata": {
        "id": "T8HRLSDy17kc"
      },
      "execution_count": null,
      "outputs": []
    },
    {
      "cell_type": "code",
      "source": [
        "#ex-3.5 การแปลงเลขฐานสอง ฐานแปด ฐานสิบหก เป็นฐานสิบ\n",
        "a = 0b100111011001\n",
        "b = 0o6453\n",
        "c = 0xAC41\n",
        "print (\"แปลงเลขฐานสองเป็นฐานสิบ =\", int(a))\n",
        "print (\"แปลงเลขฐานแปดเป็นฐานสิบ =\", int(b))\n",
        "print (\"แปลงเลขฐานสิบหกเป็นฐานสิบ =\", int(c))"
      ],
      "metadata": {
        "id": "xvhNvTqW191G"
      },
      "execution_count": null,
      "outputs": []
    },
    {
      "cell_type": "code",
      "source": [
        "#ex-3.6 การบวกเลขฐานสองและการแปลงผลลัพธ์จากเลขฐานสิบ เป็นฐานสอง ฐานแปด ฐานสิบหก\n",
        "a = 0b1001011; b = 0b1101101\n",
        "c = a + b\n",
        "print (\"ผลบวกของ a กับ b =\", c)\n",
        "print (\"แปลงผลลัพธ์จากการผลบวก a กับ b เป็นเลขฐานสอง =\", bin(c))\n",
        "print (\"แปลงผลลัพธ์จากการผลบวก a กับ b เป็นเลขฐานแปด =\", oct(c))\n",
        "print (\"แปลงผลลัพธ์จากการผลบวก a กับ b เป็นเลขฐานสิบหก =\", hex(c))"
      ],
      "metadata": {
        "id": "nVTa0rUl2Yst"
      },
      "execution_count": null,
      "outputs": []
    },
    {
      "cell_type": "markdown",
      "source": [
        "## ชนิดข้อมูลจำนวนทศนิยม (Float)"
      ],
      "metadata": {
        "id": "psXuqyj_2p2F"
      }
    },
    {
      "cell_type": "code",
      "source": [
        "#ex-3.7 การแสดงผลการบวก ลบ กับชนิดข้อมูลจำนวนทศนิยม\n",
        "a = 341.451E-3; b = 251.147e-2; c = 758.457E5; x = 10.5; y = 17.5\n",
        "d = a - b\n",
        "z = x + y\n",
        "print (\"ค่าตัวเลขจำนวนทศนิยมของ b = \", b)\n",
        "print (\"ผลลัพธ์จาการลบ a กับ b =\", d)\n",
        "print (\"ผลลัพธ์จากการบวก x กับ y =\", z)"
      ],
      "metadata": {
        "id": "ouFWeOds2yWg"
      },
      "execution_count": null,
      "outputs": []
    },
    {
      "cell_type": "code",
      "source": [
        "#ex-3.8 การแปลงชนิดข้อมูลอักขระหรือสตริง เป็นชนิดข้อมูลจำนวนทศนิยม\n",
        "a = 56; b = 55\n",
        "c = float(a)\n",
        "d = float(b)\n",
        "x = c + d\n",
        "y = c * d\n",
        "print (\"ผลลัพธ์จากการแปลงค่า 56 =\", c)\n",
        "print (\"ผลลัพธ์จาการแปลงค่า 55 =\", d)\n",
        "print (\"ผลลัพธ์จาการบวกค่าของ c + d =\", x)\n",
        "print (\"ผลลัพธ์จากการคูณค่าของ c * d =\", y)"
      ],
      "metadata": {
        "colab": {
          "base_uri": "https://localhost:8080/"
        },
        "id": "B_Rdf7EQ21rx",
        "outputId": "e1e394b3-9a04-48dd-a554-3dca1e63fff5"
      },
      "execution_count": 1,
      "outputs": [
        {
          "output_type": "stream",
          "name": "stdout",
          "text": [
            "ผลลัพธ์จากการแปลงค่า 56 = 56.0\n",
            "ผลลัพธ์จาการแปลงค่า 55 = 55.0\n",
            "ผลลัพธ์จาการบวกค่าของ c + d = 111.0\n",
            "ผลลัพธ์จากการคูณค่าของ c * d = 3080.0\n"
          ]
        }
      ]
    },
    {
      "cell_type": "markdown",
      "source": [
        "## ชนิดข้อมูลจำนวนเชิงซ้อ (Complex)"
      ],
      "metadata": {
        "id": "gykBqqkQ3ihQ"
      }
    },
    {
      "cell_type": "code",
      "source": [
        "#ex-3.9 การใช้ตัวดำเนินการบวก ลบ กับชนิดข้อมูลเชิงซ้อน\n",
        "a = 20 + 5j; b = 15 + 6j; c = 6 - 7j\n",
        "x = a + b\n",
        "y = b * c\n",
        "print (\"ผลลัพธ์การบวกระหว่าง a กับ b =\", x)\n",
        "print (\"ผลลัพธ์การคูณระหว่าง b กับ c =\", y)"
      ],
      "metadata": {
        "id": "TYBj1d9b3pLs"
      },
      "execution_count": null,
      "outputs": []
    },
    {
      "cell_type": "markdown",
      "source": [
        "## ชนิดข้อมูลตรรกะ (Boolean)"
      ],
      "metadata": {
        "id": "vQgsnHth3806"
      }
    },
    {
      "cell_type": "code",
      "source": [
        "#ex-3.10 การเขียนคำสั่งโปรแกรมใช้งานชนิดข้อมูลตรรกะ\n",
        "x = True; y = False; z = True\n",
        "print(\"ผลการเปรียบเทียบ x == y หรือไม่ =\", x == y)\n",
        "print(\"ผลการเปรียบเทียบ y == z หรือไม่ =\", y == z)\n",
        "print(\"ผลการเปรียบเทียบ z == True หรือไม่ =\", z == True)"
      ],
      "metadata": {
        "colab": {
          "base_uri": "https://localhost:8080/"
        },
        "id": "WiYZNxNc4CfA",
        "outputId": "405a489f-96df-4c4b-d77c-5a583edf4cc6"
      },
      "execution_count": 2,
      "outputs": [
        {
          "output_type": "stream",
          "name": "stdout",
          "text": [
            "ผลการเปรียบเทียบ x == y หรือไม่ = False\n",
            "ผลการเปรียบเทียบ y == z หรือไม่ = False\n",
            "ผลการเปรียบเทียบ z == True หรือไม่ = True\n"
          ]
        }
      ]
    },
    {
      "cell_type": "code",
      "source": [
        "#ex-3.11 การใช้งานฟังก์ชัน bool() ตรวจสอบค่าข้อมูลในตัวแปร\n",
        "b = \"\"; c = \" \"; n = None; num = 245\n",
        "print (\"มีข้อมูลอยู่ในตัวแปร b หรือไม่ =\", bool(b))\n",
        "print (\"มีข้อมูลอยู่ในตัวแปร c หรือไม่ =\", bool(c))\n",
        "print (\"มีข้อมูลอยู่ในตัวแปร n หรือไม่ =\", bool(n))\n",
        "print (\"มีข้อมูลอยู่ในตัวแปร num2 หรือไม่ =\", bool(num))"
      ],
      "metadata": {
        "id": "liBfnF5U4qaC"
      },
      "execution_count": null,
      "outputs": []
    },
    {
      "cell_type": "markdown",
      "source": [
        "## ชนิดข้อมูลสายอักขระหรือสตริง (String)"
      ],
      "metadata": {
        "id": "7U-V3bZi4g-2"
      }
    },
    {
      "cell_type": "code",
      "source": [
        "#ex-3.12 การประกาศสร้างตัวแปรชนิดข้อมูลสตริง\n",
        "msg = \"Python Programming\"\n",
        "msg1 = 'Language'\n",
        "print(msg)\n",
        "print(msg1)\n",
        "print(msg, msg1)"
      ],
      "metadata": {
        "id": "xIEhGUOv4oG0"
      },
      "execution_count": null,
      "outputs": []
    },
    {
      "cell_type": "markdown",
      "source": [
        "## การแปลงชนิดข้อมูล (Data Type Conversion)"
      ],
      "metadata": {
        "id": "lJk8Q2dr5Vcn"
      }
    },
    {
      "cell_type": "code",
      "source": [
        "#ex-3.13 การแจ้งเตือนข้อผิดพลาดเมื่อนำชนิดข้อมูลสตริงดำเนินการกับชนิดข้อมูลจำนวนเต็ม\n",
        "num = input(\"Enter number = \")\n",
        "print(50 + num)"
      ],
      "metadata": {
        "id": "_VMs_C4x47Sd"
      },
      "execution_count": null,
      "outputs": []
    },
    {
      "cell_type": "code",
      "source": [
        "#ex-3.14 การแปลงชนิดข้อมูลสตริงเป็นชนิดข้อมูลจำนวนเต็ม\n",
        "num = int(input(\"กรุณาป้อนตัวเลขของคุณ : \"))\n",
        "x = \"60\"\n",
        "y = int(x) + num\n",
        "print (\"ผลลัพธ์จากการบวก x + num =\", y)"
      ],
      "metadata": {
        "id": "WMWM2Dv05Bcv"
      },
      "execution_count": null,
      "outputs": []
    },
    {
      "cell_type": "code",
      "source": [
        "#ex-3.15 การแปลงชนิดข้อมูลสตริงเป็นชนิดข้อมูลจำนวนทศนิยม\n",
        "flo = float(input(\"กรุณาป้อนตัวเลขของคุณ : \"))\n",
        "x = \"152.124\"\n",
        "y = float(x) + flo\n",
        "print (\"ผลลัพธ์จากการบวก x + flo =\", y)"
      ],
      "metadata": {
        "id": "gbpAlbpV5nXV"
      },
      "execution_count": null,
      "outputs": []
    },
    {
      "cell_type": "code",
      "source": [
        "#ex-3.16 การแปลงชนิดข้อมูลสตริงเป็นชนิดข้อมูลเชิงซ้อน\n",
        "a = \"20+5j\"; b = \"15+6j\";\n",
        "x = complex(a)\n",
        "y = complex(b)\n",
        "z = complex(7,5)\n",
        "print (\"ผลลัพธ์การแปลงชนิดข้อมูลจำนวนเชิงซ้อนจากตัวแปร a =\", x)\n",
        "print (\"ผลลัพธ์การแปลงชนิดข้อมูลจำนวนเชิงซ้อนจากตัวแปร b =\", y)\n",
        "print (\"ค่าจำนวนจริงของ c =\", x.real, \"และค่าจินตภาพของ c = \", x.imag)\n",
        "print (\"ผลลัพธ์การแปลงเครื่องหมายตัวดำเนินการของตัวแปร y =\", y.conjugate())\n",
        "print (\"ผลลัพธ์การสร้างคู่อันดับจากตัวแปร z =\", z)"
      ],
      "metadata": {
        "id": "hXbFugWa5orp"
      },
      "execution_count": null,
      "outputs": []
    },
    {
      "cell_type": "code",
      "source": [
        "#ex-3.17 การแปลง สตริง เป็น จำนวนเชิงซ้อน กรณีเกิดการแจ้งเตือนข้อผิดพลาด ที่มีช่องว่าง\n",
        "c = \"25 + 9j\";\n",
        "print(complex(c))"
      ],
      "metadata": {
        "colab": {
          "base_uri": "https://localhost:8080/",
          "height": 201
        },
        "id": "9XOSiZLE5pFq",
        "outputId": "272480bf-e672-4836-b4c0-bd5991917391"
      },
      "execution_count": 3,
      "outputs": [
        {
          "output_type": "error",
          "ename": "ValueError",
          "evalue": "ignored",
          "traceback": [
            "\u001b[0;31m---------------------------------------------------------------------------\u001b[0m",
            "\u001b[0;31mValueError\u001b[0m                                Traceback (most recent call last)",
            "\u001b[0;32m<ipython-input-3-00055c81be70>\u001b[0m in \u001b[0;36m<module>\u001b[0;34m\u001b[0m\n\u001b[1;32m      1\u001b[0m \u001b[0;31m#ex-3.17 การแปลง สตริง เป็น จำนวนเชิงซ้อน กรณีเกิดการแจ้งเตือนข้อผิดพลาด\u001b[0m\u001b[0;34m\u001b[0m\u001b[0;34m\u001b[0m\u001b[0;34m\u001b[0m\u001b[0m\n\u001b[1;32m      2\u001b[0m \u001b[0mc\u001b[0m \u001b[0;34m=\u001b[0m \u001b[0;34m\"25 + 9j\"\u001b[0m\u001b[0;34m;\u001b[0m\u001b[0;34m\u001b[0m\u001b[0;34m\u001b[0m\u001b[0m\n\u001b[0;32m----> 3\u001b[0;31m \u001b[0mprint\u001b[0m\u001b[0;34m(\u001b[0m\u001b[0mcomplex\u001b[0m\u001b[0;34m(\u001b[0m\u001b[0mc\u001b[0m\u001b[0;34m)\u001b[0m\u001b[0;34m)\u001b[0m\u001b[0;34m\u001b[0m\u001b[0;34m\u001b[0m\u001b[0m\n\u001b[0m",
            "\u001b[0;31mValueError\u001b[0m: complex() arg is a malformed string"
          ]
        }
      ]
    },
    {
      "cell_type": "markdown",
      "source": [
        "## การกำหนดค่าให้กับตัวแปร"
      ],
      "metadata": {
        "id": "KMRyH8w16tXu"
      }
    },
    {
      "cell_type": "code",
      "source": [
        "#ex-3.18 การสร้างตัวแปรครั้งละหลายๆ ตัว และกำหนดเป็นชนิดข้อมูลเดียวกัน\n",
        "num_1 = num_2 = num_3 = 50\n",
        "print (\"ค่าข้อมูลในตัวแปร num_1 =\", num_1)\n",
        "print (\"ค่าข้อมูลในตัวแปร num_2 =\", num_2)\n",
        "print (\"ค่าข้อมูลในตัวแปร num_3 =\", num_3)"
      ],
      "metadata": {
        "id": "Zz_xCKek6xHu"
      },
      "execution_count": null,
      "outputs": []
    },
    {
      "cell_type": "code",
      "source": [
        "#ex-3.19 การสร้างตัวแปรครั้งละหลายๆ ตัว และกำหนดชนิดข้อมูลจำนวนเต็ม และสตริง \n",
        "num1, num2, msg = 50, 100, \"Hello World\"\n",
        "print (\"ค่าข้อมูลในตัวแปร num1 =\", num1)\n",
        "print (\"ค่าข้อมูลในตัวแปร num2 =\", num2)\n",
        "print (\"ค่าข้อมูลในตัวแปร msg = \", msg)"
      ],
      "metadata": {
        "id": "UTQ3i19064BY"
      },
      "execution_count": null,
      "outputs": []
    },
    {
      "cell_type": "code",
      "source": [
        "#ex-3.20 การสร้างตัวแปรครั้งละหลายๆ ตัว แต่แยกเก็บชนิดข้อมูลอยู่ในบรรทัดเดียวกัน\n",
        "x = 200; y = 300; msg = \"Hello Python\"\n",
        "print (\"ค่าข้อมูลในตัวแปร x =\", x)\n",
        "print (\"ค่าข้อมูลในตัวแปร y =\", y)\n",
        "print (\"ค่าข้อมูลในตัวแปร msg = \", msg)"
      ],
      "metadata": {
        "id": "FhIoIUir65MS"
      },
      "execution_count": null,
      "outputs": []
    },
    {
      "cell_type": "markdown",
      "source": [
        "## การตรวจสอบชนิดข้อมูล"
      ],
      "metadata": {
        "id": "oA-e4As_7jIW"
      }
    },
    {
      "cell_type": "code",
      "source": [
        "#ex-3.21 การตรวจสอบชนิดข้อมูลด้วยฟังก์ชัน type()\n",
        "msg = \"Python Programming\"\n",
        "num = 254\n",
        "float_ = 354.213\n",
        "print(type(msg))\n",
        "print(type(num))\n",
        "print(type(float_))"
      ],
      "metadata": {
        "id": "ZD-9GYMi7nvv"
      },
      "execution_count": null,
      "outputs": []
    },
    {
      "cell_type": "markdown",
      "source": [
        "## นิพจน์ (Expressions)\n",
        "\n",
        "---\n",
        "นิพจน์ เป็นการดำเนินการทางคณิตศาสตร์เพื่อคำนวณ หรือ ทำการเปรียบเทียบหาค่าต่างๆ ตามต้องการ ในการดำเนินการจะประกอบด้วย ค่าคงที่ หรือ ตัวแปร สิ่งเหล่านี้เรียกว่า \n",
        "\n",
        "*   ตัวถูกดำเนินการ (Operand)\n",
        "*   ตัวดำเนินการ (Operator) คือ สัญลักษณ์ต่างๆ เช่น +,-,*,/,<,>,= เป็นต้น\n",
        "\n",
        "\n",
        "\n",
        "\n"
      ],
      "metadata": {
        "id": "zvEHU4kN7yy5"
      }
    },
    {
      "cell_type": "markdown",
      "source": [
        "## ตัวดำเนินการทางคณิตศาสตร์ (Arithmetic Operator)"
      ],
      "metadata": {
        "id": "fvXoupZP9Top"
      }
    },
    {
      "cell_type": "code",
      "source": [
        "#ex-3.22 การนำตัวดำเนินการมาใช้\n",
        "a = 5; b = 3;\n",
        "z = a + b\n",
        "print(\"ผลลัพธ์ของ a + b คือ \", z)\n",
        "z = a - b\n",
        "print(\"ผลลัพธ์ของ a - b คือ \", z)\n",
        "z = a * b\n",
        "print(\"ผลลัพธ์ของ a * b คือ \", z)\n",
        "z = a / b\n",
        "print(\"ผลลัพธ์ของ a / b คือ \", z)\n",
        "z = a % b\n",
        "print(\"ผลลัพธ์ของ a % b คือ \", z)\n",
        "z = a ** b\n",
        "print(\"ผลลัพธ์ของ a ** b คือ \", z)\n",
        "z = a // b\n",
        "print(\"ผลลัพธ์ของ a // b คือ \", z)"
      ],
      "metadata": {
        "id": "B_G9wzBM9cYr"
      },
      "execution_count": null,
      "outputs": []
    },
    {
      "cell_type": "markdown",
      "source": [
        "## ตัวดำเนินการเปรียบเทียบ (Comparison Operator)"
      ],
      "metadata": {
        "id": "e_KpN12B9qbE"
      }
    },
    {
      "cell_type": "code",
      "source": [
        "#ex-3.23 การใช้ตัวดำเนินการเปรียบเทียบ\n",
        "a = 5; b = 3; c = 15; d = 3\n",
        "w = a == c\n",
        "print(\"a เท่ากับ c หรือไม่ =\", w)\n",
        "x = d <= a\n",
        "print(\"d น้อยกว่าหรือเท่ากับ a หรือไม่ =\", x)\n",
        "y = b >= c\n",
        "print(\"b มากกว่าหรือเท่ากับ c หรือไม่ =\", y)\n",
        "z = b == d < a\n",
        "print(\"b เท่ากับ d และน้อยกว่า a หรือไม่ =\", z)"
      ],
      "metadata": {
        "id": "7PEXSd6J9xU8"
      },
      "execution_count": null,
      "outputs": []
    },
    {
      "cell_type": "markdown",
      "source": [
        "## ตัวดำเนินการกำหนดค่า (Assignment Operator)"
      ],
      "metadata": {
        "id": "SsrKaK4P-dG4"
      }
    },
    {
      "cell_type": "code",
      "source": [
        "#ex-3.24-1\n",
        "a = 5; b = 3\n",
        "a = b\n",
        "print(\"ผลลัพธ์ a = b :\", a)"
      ],
      "metadata": {
        "id": "yoRHHv5B-jG9"
      },
      "execution_count": null,
      "outputs": []
    },
    {
      "cell_type": "code",
      "source": [
        "#ex-3.24-2\n",
        "a = 5; b = 3\n",
        "a += b\n",
        "print(\"ผลลัพธ์ a += b :\", a)"
      ],
      "metadata": {
        "id": "Du-xSFpL-rQA"
      },
      "execution_count": null,
      "outputs": []
    },
    {
      "cell_type": "code",
      "source": [
        "#ex-3.24-3\n",
        "a = 5; b = 3\n",
        "a -= b\n",
        "print(\"ผลลัพธ์ a -= b :\", a)"
      ],
      "metadata": {
        "id": "0ex5Z0xs-uEk"
      },
      "execution_count": null,
      "outputs": []
    },
    {
      "cell_type": "code",
      "source": [
        "#ex-3.24-4\n",
        "a = 5; b = 3\n",
        "a *= b\n",
        "print(\"ผลลัพธ์ a *= b :\", a)"
      ],
      "metadata": {
        "id": "356VCjba-9pJ"
      },
      "execution_count": null,
      "outputs": []
    },
    {
      "cell_type": "code",
      "source": [
        "#ex-3.24-5\n",
        "a = 5; b = 3\n",
        "a /= b\n",
        "print(\"ผลลัพธ์ a /= b :\", a)"
      ],
      "metadata": {
        "id": "MnQC4R0T_Ds0"
      },
      "execution_count": null,
      "outputs": []
    },
    {
      "cell_type": "code",
      "source": [
        "#ex-3.24-6\n",
        "a = 5; b = 3\n",
        "a %= b\n",
        "print(\"ผลลัพธ์ a %= b :\", a)"
      ],
      "metadata": {
        "colab": {
          "base_uri": "https://localhost:8080/"
        },
        "id": "1hpBTSZC_ISq",
        "outputId": "7fd6030c-8eea-4546-d6df-e667ec2ec270"
      },
      "execution_count": 4,
      "outputs": [
        {
          "output_type": "stream",
          "name": "stdout",
          "text": [
            "ผลลัพธ์ a %= b : 2\n"
          ]
        }
      ]
    },
    {
      "cell_type": "code",
      "source": [
        "#ex-3.24-7\n",
        "a = 5; b = 3\n",
        "a **= b\n",
        "print(\"ผลลัพธ์ a **= b :\", a)"
      ],
      "metadata": {
        "colab": {
          "base_uri": "https://localhost:8080/"
        },
        "id": "qYmZbiyw_P_c",
        "outputId": "c8aec67f-7f88-460a-c50d-7a75d25f07db"
      },
      "execution_count": 5,
      "outputs": [
        {
          "output_type": "stream",
          "name": "stdout",
          "text": [
            "ผลลัพธ์ a **= b : 125\n"
          ]
        }
      ]
    },
    {
      "cell_type": "code",
      "source": [
        "#ex-3.24-8\n",
        "a = 5; b = 3\n",
        "a //= b\n",
        "print(\"ผลลัพธ์ a //= b :\", a)"
      ],
      "metadata": {
        "colab": {
          "base_uri": "https://localhost:8080/"
        },
        "id": "zSoY8sGZ_TZM",
        "outputId": "6eda9978-1db4-46e9-f41a-84ab9b1395e0"
      },
      "execution_count": 6,
      "outputs": [
        {
          "output_type": "stream",
          "name": "stdout",
          "text": [
            "ผลลัพธ์ a //= b : 1\n"
          ]
        }
      ]
    },
    {
      "cell_type": "markdown",
      "source": [
        "## ตัวดำเนินการตรรกศาสตร์ (Logical Operator)"
      ],
      "metadata": {
        "id": "AyEm3KwoHuQ2"
      }
    },
    {
      "cell_type": "code",
      "source": [
        "#ex-3.25\n",
        "a = 5; b = 3; c = 15; z = 0\n",
        "\n",
        "z = a == b and c < b\n",
        "print(\"ผลลัพธ์ของ a == b and c < b คือ \", z)\n",
        "z = a > b and a < c\n",
        "print(\"ผลลัพธ์ของ a > b and a < c คือ \", z)\n",
        "z = b > a or a > c\n",
        "print(\"ผลลัพธ์ของ b > a or a > c คือ \", z)\n",
        "z = b < a or c > a\n",
        "print(\"ผลลัพธ์ของ b < a or c > a คือ \", z)\n",
        "z = not (a < c)\n",
        "print(\"ผลลัพธ์ของ not (a < c) คือ \", z)\n",
        "z = not (b > a or c < a)\n",
        "print(\"ผลลัพธ์ของ not (b > a or c < a) คือ \", z)"
      ],
      "metadata": {
        "id": "-X3M_4SVH164"
      },
      "execution_count": null,
      "outputs": []
    },
    {
      "cell_type": "markdown",
      "source": [
        "## ตัวดำเนินการระดับบิต (Bitwise Operator)"
      ],
      "metadata": {
        "id": "6bFg2fTKIE5_"
      }
    },
    {
      "cell_type": "code",
      "source": [
        "#ex-3.26\n",
        "a = 5; b = 3; c= 5\n",
        "\"\"\"\n",
        "แปลงเป็นเลขฐาน 2 เพื่อความเข้าใจ\n",
        "ab=bin(a); bb=bin(b); cb=bin(c)\n",
        "print(\"5 = \",ab)\n",
        "print(\"3 = \",bb)\n",
        "print(\"5 = \",cb)\n",
        "\"\"\"\n",
        "z = a & b\n",
        "print(\"ผลลัพธ์ของ a & b คือ \", z)\n",
        "z = a ^ c\n",
        "print(\"ผลลัพธ์ของ a ^ c คือ \", z)\n",
        "z = a | b\n",
        "print(\"ผลลัพธ์ของ a | b คือ \", z)\n",
        "z = a << 1\n",
        "print(\"ผลลัพธ์ของ a << 1 คือ \", z)\n",
        "\n",
        "#print(int(0b1010))"
      ],
      "metadata": {
        "colab": {
          "base_uri": "https://localhost:8080/"
        },
        "id": "5Ihem19zILtC",
        "outputId": "3676c1ce-387e-47bc-96a1-c05a4b46a2c5"
      },
      "execution_count": 17,
      "outputs": [
        {
          "output_type": "stream",
          "name": "stdout",
          "text": [
            "ผลลัพธ์ของ a & b คือ  1\n",
            "ผลลัพธ์ของ a ^ c คือ  0\n",
            "ผลลัพธ์ของ a | b คือ  7\n",
            "ผลลัพธ์ของ a << 1 คือ  10\n"
          ]
        }
      ]
    },
    {
      "cell_type": "markdown",
      "source": [
        "## ตัวดำเนินการตรวจสอบสมาชิก (Membership Operator)"
      ],
      "metadata": {
        "id": "jGa3sKeqKKBo"
      }
    },
    {
      "cell_type": "code",
      "source": [
        "#ex-3.27\n",
        "cars = [\"Honda\", \"Toyota\", \"BMW\", \"Benz\", \"Nissan\", \"Mazda\" ]\n",
        "my_car = \"Ford\"\n",
        "\n",
        "z = my_car in cars\n",
        "print(\"ผลลัพธ์ของ my_car in cars =\", z)\n",
        "z = my_car not in cars\n",
        "print(\"ผลลัพธ์ของ my_car not in cars =\", z)"
      ],
      "metadata": {
        "colab": {
          "base_uri": "https://localhost:8080/"
        },
        "id": "ZBsXjw_sKRUQ",
        "outputId": "8e9c6825-1c7a-4c10-ab44-fa60505795d2"
      },
      "execution_count": 18,
      "outputs": [
        {
          "output_type": "stream",
          "name": "stdout",
          "text": [
            "ผลลัพธ์ของ my_car in cars = False\n",
            "ผลลัพธ์ของ my_car not in cars = True\n"
          ]
        }
      ]
    },
    {
      "cell_type": "markdown",
      "source": [
        "## ตัวดำเนินการเอกลักษณ์ (Identity Operator)"
      ],
      "metadata": {
        "id": "F74f5O-jKg6e"
      }
    },
    {
      "cell_type": "code",
      "source": [
        "#ex-3.28\n",
        "a = 5; b = 3\n",
        "\n",
        "z = a is b\n",
        "print(\"ผลลัพธ์ของ a is b คือ \", z)\n",
        "z = a is not b\n",
        "print(\"ผลลัพธ์ของ a is not b คือ \", z)"
      ],
      "metadata": {
        "id": "aK_8w9bCKnwc"
      },
      "execution_count": null,
      "outputs": []
    },
    {
      "cell_type": "markdown",
      "source": [
        "## ลำดับความสำคัญตัวดำเนินการ (Operator Precedence)"
      ],
      "metadata": {
        "id": "pxrKBIA8K2Bi"
      }
    },
    {
      "cell_type": "code",
      "source": [
        "#ex-3.29\n",
        "x = 10 + 4 / 2 * 9\n",
        "print (\"ผลลัพธ์ของ x = 10 + 4 / 2 * 9 คือ \", x)\n",
        "x = ((10 + 4) / 2) * 9\n",
        "print (\"ผลลัพธ์ของ ((10 + 4) / 2) * 9 คือ \", x)"
      ],
      "metadata": {
        "id": "AxRlqzoKK_qp"
      },
      "execution_count": null,
      "outputs": []
    },
    {
      "cell_type": "markdown",
      "source": [
        "# **แบบฝึกหัด**\n",
        "\n",
        "\n",
        "1.   จงบอกชนิดข้อมูลจากการประกาศตัวแปรดังต่อไปนี้\n",
        "```\n",
        "money = 3464 \n",
        "academy = \"RMUTSB\"\n",
        "num_s = \"3.241.2145\n",
        "flo_num = 3241.2145\n",
        "```\n",
        "---\n",
        "2. จงเขียนโปรแกรมคำนวณภาษีที่ต้องจ่าย โดยมีอัตราภาษีเท่ากับ 7% กำหนดให้ตัวแปรภาษีเป็นค่าคงที่ และให้ผู้ใช้งานป้อนผ่านทางคีย์บอร์ด\n",
        "---\n",
        "3. จงเขียนโปรแกรมคำนวณอายุ โดยให้ผู้ใช้งานป้อนข้อมูลผ่านทางคีย์บอร์ด โดยภายในคำสั่งโปรแกรมต้องมีการเรียกใช้ฟังก์ชันแปลงชนิดข้อมูลก่อนนำไปคำนวณ\n",
        "---\n",
        "4. จงเขียนคำสั่งโปรแกรมเพื่อหาคำตอบจากโจทย์ที่กำหนดให้\n",
        "```\n",
        "x = 456\n",
        "print(oct(x)) =\n",
        "print(hex(x)) =\n",
        "print(bin(x)) =\n",
        "```\n",
        "---\n",
        "5. จากนิพจน์ x =  125 + 315 / 3 + 5 * 2 + 15 * 4 จงหาผลลัพธ์ให้ x = 216.6666...\n",
        "---\n",
        "6. จากนิพจน์ x =  451 + 315 / 3 + 5 * 2 * 3 + 15 * 4 * 12 จงหาผลลัพธ์ให้ x = 1306\n",
        "---\n",
        "\n",
        "\n"
      ],
      "metadata": {
        "id": "n0yaKk_iLRCY"
      }
    }
  ]
}